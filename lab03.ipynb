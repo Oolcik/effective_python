{
 "cells": [
  {
   "cell_type": "markdown",
   "metadata": {},
   "source": [
    "## Lab 03"
   ]
  },
  {
   "cell_type": "markdown",
   "metadata": {},
   "source": [
    "## Zadanie 1"
   ]
  },
  {
   "cell_type": "markdown",
   "metadata": {},
   "source": [
    "a) Napisz funkcję, która wypisuje wiadomość opcjonalnie wraz z podaną wartością"
   ]
  },
  {
   "cell_type": "code",
   "execution_count": 5,
   "metadata": {},
   "outputs": [
    {
     "name": "stdout",
     "output_type": "stream",
     "text": [
      "Hello World! \n",
      "The value is 42\n"
     ]
    }
   ],
   "source": [
    "def log(mess, val=\"\"):\n",
    "    print(mess, val)\n",
    "    return\n",
    "\n",
    "log(\"Hello World!\") # Hello World!\n",
    "log(\"The value is\", 42) # The value is: 42"
   ]
  },
  {
   "cell_type": "markdown",
   "metadata": {},
   "source": [
    "b) Napisz funkcję, która zwraca średnią z podanych liczb"
   ]
  },
  {
   "cell_type": "code",
   "execution_count": 10,
   "metadata": {},
   "outputs": [
    {
     "name": "stdout",
     "output_type": "stream",
     "text": [
      "True\n",
      "True\n",
      "True\n"
     ]
    }
   ],
   "source": [
    "def mean(*vals):\n",
    "    return sum(vals) / len(vals)\n",
    "\n",
    "print(mean(1,2,3) == 2)\n",
    "print(mean(2,2,4,4) == 3)\n",
    "print(mean(1,2,3,4,5,61,2,12,123,123) == 33.6)"
   ]
  },
  {
   "cell_type": "markdown",
   "metadata": {},
   "source": [
    "c) Napisz funkcję, która sprawdza, czy w danym słowniku znajduje się conajmniej podana liczba elementów"
   ]
  },
  {
   "cell_type": "code",
   "execution_count": 12,
   "metadata": {},
   "outputs": [
    {
     "name": "stdout",
     "output_type": "stream",
     "text": [
      "True\n",
      "True\n",
      "True\n",
      "True\n",
      "True\n",
      "True\n"
     ]
    }
   ],
   "source": [
    "def check_dictionary_content(dict, **elems):\n",
    "    for key in elems:\n",
    "        if(dict.get(key, 0) < elems[key]):\n",
    "            return False\n",
    "    return True\n",
    "\n",
    "d = {'orange': 3, 'apple': 1, 'dogs': 10}\n",
    "print(check_dictionary_content(d, orange=2) == True)\n",
    "print(check_dictionary_content(d, orange=2, apple=1) == True)\n",
    "print(check_dictionary_content(d, dogs=11) == False)\n",
    "print(check_dictionary_content(d, dogs=9, cats=0) == True)\n",
    "print(check_dictionary_content(d, apple=0, cats=1) == False)\n",
    "print(check_dictionary_content(d, **d) == True)"
   ]
  },
  {
   "cell_type": "markdown",
   "metadata": {},
   "source": [
    "## Zadanie 2\n",
    "Napisz funkcję która dla listy liczb zwróci listę częściowych udziałów w sumie tych liczb"
   ]
  },
  {
   "cell_type": "code",
   "execution_count": 17,
   "metadata": {},
   "outputs": [
    {
     "name": "stdout",
     "output_type": "stream",
     "text": [
      "True\n",
      "True\n",
      "True\n"
     ]
    }
   ],
   "source": [
    "def numbers_to_percents(values):\n",
    "    return [i / sum(values) for i in values]\n",
    "\n",
    "print(numbers_to_percents([1,2,1])==[0.25, 0.5, 0.25])\n",
    "print(numbers_to_percents([1])==[1])\n",
    "print(numbers_to_percents([1,2,3,4])==[0.1, 0.2, 0.3, 0.4])"
   ]
  },
  {
   "cell_type": "markdown",
   "metadata": {},
   "source": [
    "Co się stanie gdy jako wejście funkcji podamy generator? W jaki sposób możemy wykryć czy wejście jest listą czy iteratorem?"
   ]
  },
  {
   "cell_type": "code",
   "execution_count": 21,
   "metadata": {},
   "outputs": [
    {
     "name": "stdout",
     "output_type": "stream",
     "text": [
      "[0.1, 0.2, 0.3, 0.4]\n"
     ]
    }
   ],
   "source": [
    "def numbers_to_percents(values):\n",
    "    try:\n",
    "        next(values)\n",
    "        values = list(values)\n",
    "    except:\n",
    "        pass\n",
    "    finally:\n",
    "        return [i / sum(values) for i in values]\n",
    "\n",
    "print(numbers_to_percents(i for i in range(5)))"
   ]
  },
  {
   "cell_type": "markdown",
   "metadata": {},
   "source": [
    "## Zadanie 3"
   ]
  },
  {
   "cell_type": "markdown",
   "metadata": {},
   "source": [
    "a) Napisz funkcję `zwroc_rosnace` która dostanie na wejsciu funkcje jednoargumentową oraz argumenty do niej a następnie zwróci te argumenty dla których wynik jest większy od argumentu."
   ]
  },
  {
   "cell_type": "code",
   "execution_count": 42,
   "metadata": {},
   "outputs": [
    {
     "name": "stdout",
     "output_type": "stream",
     "text": [
      "True\n",
      "True\n",
      "True\n"
     ]
    }
   ],
   "source": [
    "def zwroc_rosnace(func, *arg):\n",
    "    return[i for i in arg if func(i) > i]\n",
    "\n",
    "def f1(n):\n",
    "    return n**2-3*n\n",
    "\n",
    "def f2(n):\n",
    "    return 100-n\n",
    "\n",
    "def f3(word):\n",
    "    return word[::-1]\n",
    "\n",
    "print(zwroc_rosnace(f1, 4, 6, 2, -5)==[6, -5])\n",
    "print(zwroc_rosnace(f2, *range(100))==list(range(50)))\n",
    "print(zwroc_rosnace(f3, \"python\", \"nie\", \"jest\", \"bardzo\", \"fajny\")==['jest', 'bardzo', 'fajny'])"
   ]
  },
  {
   "cell_type": "markdown",
   "metadata": {},
   "source": [
    "b) Dopisz drugą, podobną funkcję która będzie zwracać argumenty których wyniki są większe od wyników poprzedniego argumentu"
   ]
  },
  {
   "cell_type": "code",
   "execution_count": 44,
   "metadata": {},
   "outputs": [
    {
     "name": "stdout",
     "output_type": "stream",
     "text": [
      "True\n",
      "True\n",
      "True\n"
     ]
    }
   ],
   "source": [
    "def zwroc_rosnace(func, *arg):\n",
    "    return[j for i, j in zip(arg[:-1], arg[1:]) if func(j) > func(i)]\n",
    "        \n",
    "\n",
    "def f1(n):\n",
    "    return n**2-3*n\n",
    "\n",
    "def f2(n):\n",
    "    return 100-n\n",
    "\n",
    "def f3(word):\n",
    "    return word[::-1]\n",
    "\n",
    "print(zwroc_rosnace(f1, 4, -5, 6, 2)==[-5])\n",
    "print(zwroc_rosnace(f2, *range(100))==[])\n",
    "print(zwroc_rosnace(f3, \"python\", \"nie\", \"jest\", \"bardzo\", \"fajny\")==['jest', 'fajny'])"
   ]
  },
  {
   "cell_type": "markdown",
   "metadata": {},
   "source": [
    "## Zadanie 4"
   ]
  },
  {
   "cell_type": "markdown",
   "metadata": {},
   "source": [
    "Napisz funkcję która będzie zwracała który raz jest wywoływana"
   ]
  },
  {
   "cell_type": "code",
   "execution_count": 52,
   "metadata": {},
   "outputs": [
    {
     "name": "stdout",
     "output_type": "stream",
     "text": [
      "True\n",
      "True\n",
      "True\n"
     ]
    }
   ],
   "source": [
    "# def counter(func):\n",
    "#     def wrapper():\n",
    "#         wrapper.calls_counter += 1\n",
    "#         return wrapper.calls_counter\n",
    "#     wrapper.calls_counter = 0\n",
    "#     return wrapper\n",
    "# @counter\n",
    "# def ile_wywolana():\n",
    "#     pass\n",
    "\n",
    "def wrapper(func):\n",
    "    func.calls_counter = 0\n",
    "    return func\n",
    "@wrapper\n",
    "def ile_wywolana():\n",
    "    ile_wywolana.calls_counter += 1\n",
    "    return ile_wywolana.calls_counter\n",
    "\n",
    "print(ile_wywolana()==1)\n",
    "print(ile_wywolana()==2)\n",
    "print(ile_wywolana()==3)"
   ]
  },
  {
   "cell_type": "markdown",
   "metadata": {},
   "source": [
    "## Zadanie 5"
   ]
  },
  {
   "cell_type": "markdown",
   "metadata": {},
   "source": [
    "Napisz generator zwracający nieskończony ciąg licz pierwszych"
   ]
  },
  {
   "cell_type": "code",
   "execution_count": 4,
   "metadata": {},
   "outputs": [
    {
     "name": "stdout",
     "output_type": "stream",
     "text": [
      "2\n",
      "3\n",
      "5\n",
      "7\n",
      "11\n",
      "13\n"
     ]
    }
   ],
   "source": [
    "def get_primes(limit):\n",
    "    if limit <= 2:\n",
    "        raise StopIteration\n",
    "    yield 2\n",
    "    for i in range(3, limit, 2):\n",
    "        for x in range(3, int(i**0.5)+2, 2):\n",
    "            if not i % x:\n",
    "                break\n",
    "        else:\n",
    "            yield i\n",
    "            \n",
    "primes = get_primes(100)            \n",
    "print(next(primes))\n",
    "print(next(primes))\n",
    "print(next(primes))\n",
    "print(next(primes))\n",
    "print(next(primes))\n",
    "print(next(primes))"
   ]
  },
  {
   "cell_type": "markdown",
   "metadata": {},
   "source": [
    "## Zadanie 6"
   ]
  },
  {
   "cell_type": "markdown",
   "metadata": {},
   "source": [
    "Uzupełnij definicje poniższych funkcji/generatorów."
   ]
  },
  {
   "cell_type": "code",
   "execution_count": 10,
   "metadata": {},
   "outputs": [
    {
     "name": "stdout",
     "output_type": "stream",
     "text": [
      "True\n",
      "0 True\n",
      "1 True\n",
      "2 True\n",
      "3 True\n",
      "4 True\n",
      "5 True\n",
      "6 True\n",
      "7 True\n",
      "8 True\n",
      "9 True\n",
      "10 True\n",
      "11 True\n",
      "12 True\n",
      "13 True\n",
      "14 True\n",
      "15 True\n",
      "16 True\n",
      "17 True\n",
      "18 True\n",
      "19 True\n",
      "20 True\n",
      "21 True\n",
      "0 True\n",
      "1 True\n",
      "2 True\n",
      "3 True\n",
      "4 True\n",
      "5 True\n",
      "6 True\n",
      "7 True\n",
      "8 True\n",
      "9 True\n",
      "10 True\n",
      "11 True\n",
      "12 True\n",
      "13 True\n",
      "14 True\n",
      "15 True\n",
      "16 True\n",
      "17 True\n",
      "18 True\n",
      "19 True\n",
      "20 True\n",
      "21 True\n"
     ]
    }
   ],
   "source": [
    "def natural_numbers(k=0):\n",
    "    while True:\n",
    "        yield k\n",
    "        k += 1\n",
    "\n",
    "import types\n",
    "print(isinstance(natural_numbers(), types.GeneratorType))\n",
    "\n",
    "for i, n in enumerate(natural_numbers()):\n",
    "    print(i, i == n)\n",
    "    if i > 20:\n",
    "        break\n",
    "        \n",
    "for i, n in enumerate(natural_numbers(1)):\n",
    "    print(i, i+1 == n)\n",
    "    if i > 20:\n",
    "        break"
   ]
  },
  {
   "cell_type": "code",
   "execution_count": 13,
   "metadata": {},
   "outputs": [
    {
     "name": "stdout",
     "output_type": "stream",
     "text": [
      "True\n",
      "1 1 True\n",
      "1 1 True\n",
      "2 2 True\n",
      "6 6 True\n",
      "24 24 True\n",
      "120 120 True\n",
      "720 720 True\n",
      "5040 5040 True\n"
     ]
    }
   ],
   "source": [
    "def factorials():\n",
    "    n = natural_numbers(1)\n",
    "    fact = 1\n",
    "    while True:\n",
    "        yield fact\n",
    "        fact *= next(n)\n",
    "\n",
    "import types\n",
    "print(isinstance(factorials(), types.GeneratorType))\n",
    "\n",
    "results = [1, 1, 2, 6, 24, 120, 720, 5040]\n",
    "for truth, answer in zip(results, factorials()):\n",
    "    print(truth, answer, truth == answer)"
   ]
  },
  {
   "cell_type": "markdown",
   "metadata": {},
   "source": [
    "## Zadanie 7\n",
    "\n",
    "Napisz generator nieskończonego ciągu [liczb Fibonacciego](https://pl.wikipedia.org/wiki/Ci%C4%85g_Fibonacciego)."
   ]
  },
  {
   "cell_type": "code",
   "execution_count": 59,
   "metadata": {},
   "outputs": [
    {
     "name": "stdout",
     "output_type": "stream",
     "text": [
      "1\n",
      "1\n",
      "2\n",
      "3\n",
      "5\n",
      "8\n"
     ]
    }
   ],
   "source": [
    "def generate_fibs():\n",
    "    a, b = 0, 1\n",
    "    while True:\n",
    "        a, b = b, a + b\n",
    "        yield a\n",
    "        \n",
    "fib = generate_fibs()\n",
    "\n",
    "print(next(fib))\n",
    "print(next(fib))\n",
    "print(next(fib))\n",
    "print(next(fib))\n",
    "print(next(fib))\n",
    "print(next(fib))"
   ]
  },
  {
   "cell_type": "code",
   "execution_count": null,
   "metadata": {},
   "outputs": [],
   "source": []
  }
 ],
 "metadata": {
  "kernelspec": {
   "display_name": "Python 3 (ipykernel)",
   "language": "python",
   "name": "python3"
  },
  "language_info": {
   "codemirror_mode": {
    "name": "ipython",
    "version": 3
   },
   "file_extension": ".py",
   "mimetype": "text/x-python",
   "name": "python",
   "nbconvert_exporter": "python",
   "pygments_lexer": "ipython3",
   "version": "3.9.18"
  }
 },
 "nbformat": 4,
 "nbformat_minor": 2
}
